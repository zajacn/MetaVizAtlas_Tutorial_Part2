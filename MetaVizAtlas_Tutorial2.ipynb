{
  "nbformat": 4,
  "nbformat_minor": 0,
  "metadata": {
    "colab": {
      "provenance": [],
      "authorship_tag": "ABX9TyPzBNf1gMxW5XLd8drEhRFZ",
      "include_colab_link": true
    },
    "kernelspec": {
      "name": "python3",
      "display_name": "Python 3"
    },
    "language_info": {
      "name": "python"
    }
  },
  "cells": [
    {
      "cell_type": "markdown",
      "metadata": {
        "id": "view-in-github",
        "colab_type": "text"
      },
      "source": [
        "<a href=\"https://colab.research.google.com/github/zajacn/MetaVizAtlas_Tutorial_Part2/blob/main/MetaVizAtlas_Tutorial2.ipynb\" target=\"_parent\"><img src=\"https://colab.research.google.com/assets/colab-badge.svg\" alt=\"Open In Colab\"/></a>"
      ]
    },
    {
      "cell_type": "code",
      "execution_count": null,
      "metadata": {
        "id": "GwIF8V7HEljd"
      },
      "outputs": [],
      "source": [
        "! git clone https://github.com/zajacn/MetaVizAtlas_Tutorial_Part2.git materials\n",
        "! cd materials"
      ]
    },
    {
      "cell_type": "code",
      "source": [
        "! wget -O library.metaatlas.tar.gz https://fgcz-gstore.uzh.ch/projects/p29925/library.metaatlas.tar.gz --user= --password="
      ],
      "metadata": {
        "id": "6pWZNj_dExMH"
      },
      "execution_count": null,
      "outputs": []
    },
    {
      "cell_type": "code",
      "source": [
        "!tar xf library.tar.gz"
      ],
      "metadata": {
        "id": "LGkqZNh1E0ui"
      },
      "execution_count": null,
      "outputs": []
    },
    {
      "cell_type": "code",
      "source": [
        "# activate R magic\n",
        "%load_ext rpy2.ipython"
      ],
      "metadata": {
        "id": "fFDZtETIE8Bc"
      },
      "execution_count": null,
      "outputs": []
    },
    {
      "cell_type": "code",
      "source": [
        "%%R\n",
        ".libPaths('usr/local/lib/R/site-library/')"
      ],
      "metadata": {
        "id": "i8aL9ltzFBMA"
      },
      "execution_count": null,
      "outputs": []
    },
    {
      "cell_type": "code",
      "source": [
        "%%R\n",
        "library(heatmaply)\n",
        "library(dplyr) # dpyr masks select from plotly\n",
        "library(readr)\n",
        "library(stringr)\n",
        "library(tidyr)\n",
        "library(tibble)\n",
        "library(ggplot2)\n",
        "library(ggbeeswarm)\n",
        "library(pheatmap)\n",
        "library(grid)\n",
        "library(microbiome)\n",
        "library(ape)\n",
        "library(vegan)\n",
        "library(useful)\n",
        "library(kableExtra)\n",
        "library(ggtree)\n",
        "library(arrow)\n",
        "library(yaml)\n",
        "library(phyloseq)\n",
        "library(microViz)"
      ],
      "metadata": {
        "id": "nU8WK59NFBvT"
      },
      "execution_count": null,
      "outputs": []
    },
    {
      "cell_type": "code",
      "source": [
        "from rpy2.rinterface_lib.callbacks import logger as rpy2_logger\n",
        "import logging\n",
        "rpy2_logger.setLevel(logging.ERROR)"
      ],
      "metadata": {
        "id": "hFgJKu1mFQRx"
      },
      "execution_count": null,
      "outputs": []
    },
    {
      "cell_type": "code",
      "source": [
        "%%R\n",
        "atlas_wd_folder <- \"dataset/\"\n",
        "\n",
        "taxonomy_file <- paste0(atlas_wd_folder, \"genomes/taxonomy/gtdb_taxonomy.tsv\")\n",
        "tree_file <- paste0(atlas_wd_folder, \"genomes/tree/gtdbtk.bac120.nwk\")\n",
        "quality_file <- paste0(atlas_wd_folder, \"genomes/checkm/completeness.tsv\")\n",
        "counts_file <- paste0(atlas_wd_folder, \"genomes/counts/raw_counts_genomes.tsv\")\n",
        "abundance_file <- paste0(atlas_wd_folder, \"genomes/counts/median_coverage_genomes.tsv\")\n",
        "readstats_file <- paste0(atlas_wd_folder, \"stats/read_counts.tsv\")\n",
        "keggmodules_file <- paste0(atlas_wd_folder, \"genomes/annotations/dram/kegg_modules.tsv\")"
      ],
      "metadata": {
        "id": "so8vTPzSFTpQ"
      },
      "execution_count": null,
      "outputs": []
    },
    {
      "cell_type": "code",
      "source": [
        "%%R\n",
        "metadata <- read.table(file.path(atlas_wd_folder, \"metadata.txt\"), sep = \"\\t\", header = TRUE, row.names = \"X\")\n",
        "metadata <- metadata[c(\"Diet\", \"Body_weight\")]\n",
        "head(metadata)\n",
        "group_variable <- \"Diet\""
      ],
      "metadata": {
        "id": "MqhqbkEiFdK4"
      },
      "execution_count": null,
      "outputs": []
    },
    {
      "cell_type": "markdown",
      "source": [
        "We confirm that the mice on high-fat diet really put more weight on."
      ],
      "metadata": {
        "id": "GfZ0WovfImzZ"
      }
    },
    {
      "cell_type": "code",
      "source": [
        "%%R\n",
        "ggplot(metadata, aes(x = Diet, y = Body_weight)) +\n",
        "  geom_boxplot() +\n",
        "  geom_beeswarm(cex = 5) +\n",
        "  ylim(10, 35) +\n",
        "  theme_minimal()"
      ],
      "metadata": {
        "id": "2OlIoz3QFimL"
      },
      "execution_count": null,
      "outputs": []
    },
    {
      "cell_type": "markdown",
      "source": [
        "# Load Atlas output\n",
        "\n",
        "## Taxonomy"
      ],
      "metadata": {
        "id": "p3bqiRsiIqFD"
      }
    },
    {
      "cell_type": "code",
      "source": [
        "%%R\n",
        "Tax <- read_tsv(taxonomy_file, show_col_types = FALSE)\n",
        "print(Tax)\n",
        "# create a short label for each species\n",
        "Tax <- Tax %>%\n",
        "  mutate(Label = ifelse(is.na(species) & is.na(genus), paste0(family, \" \", user_genome), species)) %>%\n",
        "  mutate(Label = ifelse(is.na(Label), paste0(genus, \" \", user_genome), Label)) %>%\n",
        "  mutate(species = Label, Label = NULL)"
      ],
      "metadata": {
        "id": "-Y1L7nh-Ihst"
      },
      "execution_count": null,
      "outputs": []
    },
    {
      "cell_type": "markdown",
      "source": [
        "## Draw tree"
      ],
      "metadata": {
        "id": "rbJ33YjBI1t3"
      }
    },
    {
      "cell_type": "code",
      "source": [
        "%%R\n",
        "Tree <- ggtree::read.tree(tree_file)\n",
        "Tree <- full_join(Tree, dplyr::rename(Tax, label = user_genome), by = \"label\")"
      ],
      "metadata": {
        "id": "835_un26I363"
      },
      "execution_count": null,
      "outputs": []
    },
    {
      "cell_type": "code",
      "source": [
        "%%R\n",
        "library(phytools)\n",
        "\n",
        "tree_plot <- ggtree(Tree, layout = \"daylight\") # +\n",
        "# geom_tiplab(aes(label=Label))\n",
        "\n",
        "\n",
        "\n",
        "\n",
        "phylum_counts <- table(Tax$phylum)\n",
        "phylum_to_label <- names(phylum_counts)[phylum_counts > 1]\n",
        "\n",
        "phylum_colors <- RColorBrewer::brewer.pal(length(phylum_to_label), \"Paired\")\n",
        "names(phylum_colors) <- phylum_to_label\n",
        "\n",
        "\n",
        "\n",
        "for (phy in phylum_to_label) {\n",
        "  phy_tax <- Tax %>% filter(phylum == phy)\n",
        "\n",
        "  phy_mrca <- findMRCA(Tree@phylo, phy_tax$user_genome)\n",
        "\n",
        "\n",
        "  tree_plot <- tree_plot +\n",
        "    geom_cladelabel(\n",
        "      node = phy_mrca,\n",
        "      label = phy,\n",
        "      fontsize = 12,\n",
        "      fill = phylum_colors[phy],\n",
        "      color = phylum_colors[phy],\n",
        "      align = TRUE,\n",
        "      offset = 0,\n",
        "      offset.text = .1,\n",
        "      barsize = 5,\n",
        "      angle = 0,\n",
        "      hjust = 0,\n",
        "    )\n",
        "}\n",
        "\n",
        "\n",
        "\n",
        "tree_plot"
      ],
      "metadata": {
        "id": "OKGet1r-JJLz"
      },
      "execution_count": null,
      "outputs": []
    },
    {
      "cell_type": "markdown",
      "source": [
        "# Genome quality"
      ],
      "metadata": {
        "id": "0PCPOYSCJTZF"
      }
    },
    {
      "cell_type": "code",
      "source": [
        "%%R\n",
        "genome_quality <- read_tsv(quality_file, show_col_types = FALSE) %>%\n",
        "  mutate(Quality_Score = Completeness - (5 * Contamination)) %>%\n",
        "  left_join(Tax, by = c(\"Bin Id\" = \"user_genome\")) %>%\n",
        "  mutate(Name = species) %>%\n",
        "  dplyr::select(-species)\n",
        "\n",
        "plt <- ggplot(genome_quality, aes(\n",
        "  x = Contamination, y = Completeness, color = phylum,\n",
        "  text = paste(\"Bin Id:\", `Bin Id`, \"\\nName\", Name, \"\\nQuality score:\", Quality_Score)\n",
        ")) +\n",
        "  geom_point() +\n",
        "  xlab(\"Contamination [%]\") +\n",
        "  ylab(\"Completeness [%]\") +\n",
        "  theme_minimal()\n",
        "\n",
        "plt"
      ],
      "metadata": {
        "id": "9rZjlynyJUok"
      },
      "execution_count": null,
      "outputs": []
    },
    {
      "cell_type": "markdown",
      "source": [
        "## Relative abundance\n",
        "\n",
        "For the relative abundance, we take the coverage over the genome, not the raw counts.\n",
        "This implicitly normalizes for genome size. The coverage is calculated as the median of the coverage values calculated in 1kb blocks.\n"
      ],
      "metadata": {
        "id": "pCRSYs1KI3W3"
      }
    },
    {
      "cell_type": "code",
      "source": [
        "%%R\n",
        "D <- read_tsv(abundance_file, show_col_types = FALSE) %>%\n",
        "  column_to_rownames(\"...1\") %>%\n",
        "  as.matrix()\n",
        "print(topleft(D, c = 10))\n",
        "\n",
        "# calculate relative abundance\n",
        "rel_ab <- sweep(D, 1, rowSums(D), `/`)\n",
        "\n",
        "# get most abundant genomes\n",
        "counts_per_genome <- data.frame(sums = colSums(rel_ab)) %>%\n",
        "  rownames_to_column(var = \"Genome\") %>%\n",
        "  left_join(Tax, by = c(\"Genome\" = \"user_genome\")) %>%\n",
        "  arrange(desc(sums))\n"
      ],
      "metadata": {
        "id": "Y6g7ZCEzJgDi"
      },
      "execution_count": null,
      "outputs": []
    },
    {
      "cell_type": "code",
      "source": [
        "%%R\n",
        "ggplot(counts_per_genome %>%\n",
        "  top_n(sums, n = 10), aes(x = reorder(species, -sums), y = sums)) +\n",
        "  geom_col() +\n",
        "  labs(x = \"\", y = \"Abundance [rel_ab]\", title = \"Most abundant genomes\") +\n",
        "  theme_minimal() +\n",
        "  theme(axis.text.x = element_text(angle = 90))"
      ],
      "metadata": {
        "id": "-st9kC2eJ6lF"
      },
      "execution_count": null,
      "outputs": []
    },
    {
      "cell_type": "markdown",
      "source": [
        "### Phyloseq\n",
        "\n",
        "Let's create a phyloseq object for further analysis."
      ],
      "metadata": {
        "id": "QGuVeYK-J9aH"
      }
    },
    {
      "cell_type": "code",
      "source": [
        "%%R\n",
        "nw_tree <- ape::read.tree(tree_file)\n",
        "\n",
        "# if you have real metadate the better\n",
        "\n",
        "if (!exists(\"metadata\")) {\n",
        "  metadata <- data.frame(row.names = rownames(rel_ab))\n",
        "  metadata$group <- \"NoGroup\"\n",
        "}\n",
        "\n",
        "\n",
        "pseq <- phyloseq(\n",
        "  otu_table(rel_ab, taxa_are_rows = FALSE),\n",
        "  tax_table(as.matrix(column_to_rownames(Tax, \"user_genome\"))),\n",
        "  phy_tree(nw_tree),\n",
        "  sample_data(metadata)\n",
        ")\n",
        "\n",
        "# fix taxonomy\n",
        "pseq <- pseq %>%\n",
        "  tax_fix()\n",
        "\n",
        "microViz::phyloseq_validate(pseq)"
      ],
      "metadata": {
        "id": "mVtEKU8QJ-DV"
      },
      "execution_count": null,
      "outputs": []
    },
    {
      "cell_type": "markdown",
      "source": [
        "### Ordination analysis\n",
        "\n",
        "Here we use the recommended robust Centered log ratio transformation with PCA.\n",
        "This corresponds to a PCoA with Aitchison distances.\n",
        "\n"
      ],
      "metadata": {
        "id": "Kw9SucTyKEE1"
      }
    },
    {
      "cell_type": "code",
      "source": [
        "%%R\n",
        "ordination <- pseq %>%\n",
        "  tax_transform(rank = \"species\", trans = \"rclr\") %>%\n",
        "  ord_calc(\n",
        "    method = \"auto\"\n",
        "  )\n",
        "\n",
        "\n",
        "ordination %>%\n",
        "  ord_plot(\n",
        "    plot_taxa = 1:3,\n",
        "    colour = \"Diet\", fill = \"Diet\",\n",
        "    size = 2\n",
        "  ) +\n",
        "  stat_ellipse(aes(linetype = Diet, colour = Diet), linewidth = 0.3)"
      ],
      "metadata": {
        "id": "o88MUjXwKGNs"
      },
      "execution_count": null,
      "outputs": []
    },
    {
      "cell_type": "markdown",
      "source": [
        "### Typical bar chart"
      ],
      "metadata": {
        "id": "uyeevF13KJPE"
      }
    },
    {
      "cell_type": "code",
      "source": [
        "%%R\n",
        "pseq %>% comp_barplot(tax_level = \"phylum\", facet_by = \"Diet\") +\n",
        "  coord_flip() +\n",
        "  theme(axis.text.y = element_blank(), axis.ticks.y = element_blank())"
      ],
      "metadata": {
        "id": "jOP736TkKLgv"
      },
      "execution_count": null,
      "outputs": []
    },
    {
      "cell_type": "markdown",
      "source": [
        "Heatmap"
      ],
      "metadata": {
        "id": "TLiGoYl_Kizh"
      }
    },
    {
      "cell_type": "code",
      "source": [
        "%%R\n",
        "cols <- distinct_palette(n = 2, add = NA)\n",
        "names(cols) <- unique(samdat_tbl(pseq)$Diet)\n",
        "\n",
        "\n",
        "\n",
        "\n",
        "htmp <- pseq %>%\n",
        "  tax_transform(\"compositional\", rank = \"genus\") %>%\n",
        "  tax_filter(min_prevalence = 0.25, prev_detection_threshold = 0.001, use_counts = FALSE) %>%\n",
        "  comp_heatmap(\n",
        "    grid_col = NA,\n",
        "    cluster_rows = FALSE, row_title = NULL,\n",
        "    # row_split = 5, #seq_len(ntaxa(ps_get(pseq))),\n",
        "    tax_anno = taxAnnotation(\n",
        "      Prev. = anno_tax_prev(bar_width = 0.9, size = grid::unit(1, \"cm\"), border = F)\n",
        "    ),\n",
        "    sample_anno = sampleAnnotation(\n",
        "      # method one\n",
        "      group = anno_sample(\"Diet\"),\n",
        "      col = list(group = cols), border = TRUE\n",
        "    )\n",
        "  )\n",
        "htmp %>% ComplexHeatmap::draw(\n",
        "  annotation_legend_list = attr(htmp, \"AnnoLegends\")\n",
        ")"
      ],
      "metadata": {
        "id": "MU8_VjWNKkzf"
      },
      "execution_count": null,
      "outputs": []
    },
    {
      "cell_type": "markdown",
      "source": [
        "# Functional annotations of genomes\n",
        "\n",
        "The relative abundance of functional annotations per sample\n",
        "\n",
        "The abundance is calculated as the sum of the relative abundance of all bacteria containing a function.\n",
        "\n",
        "## Kegg modules produced by Dram"
      ],
      "metadata": {
        "id": "AlwaqPPhKtAt"
      }
    },
    {
      "cell_type": "code",
      "source": [
        "%%R\n",
        "kegg_modules <- read_tsv(keggmodules_file, col_select = -1)\n",
        "module_names <- kegg_modules %>%\n",
        "  dplyr::select(c(\"module\", \"module_name\")) %>%\n",
        "  distinct() %>%\n",
        "  column_to_rownames(\"module\")\n",
        "\n",
        "\n",
        "print(head(kegg_modules))"
      ],
      "metadata": {
        "id": "D5T7q08GKtqt"
      },
      "execution_count": null,
      "outputs": []
    },
    {
      "cell_type": "code",
      "source": [
        "%%R\n",
        "step_coverage_threshold <- 0.8\n",
        "\n",
        "module_step_coverage_matrix <- pivot_wider(kegg_modules,\n",
        "  id_cols = genome,\n",
        "  names_from = module,\n",
        "  values_from = step_coverage\n",
        ") %>%\n",
        "  column_to_rownames(\"genome\") %>%\n",
        "  as.matrix()\n",
        "\n",
        "module_step_coverage_matrix <- module_step_coverage_matrix[, colSums(module_step_coverage_matrix) > 0]\n",
        "\n",
        "setHook(\"grid.newpage\", function() pushViewport(viewport(x = 1, y = 1, width = 0.9, height = 0.9, name = \"vp\", just = c(\"right\", \"top\"))), action = \"prepend\")\n",
        "hatmap <- pheatmap(module_step_coverage_matrix, show_colnames = F, show_rownames = F)\n",
        "setHook(\"grid.newpage\", NULL, \"replace\")\n",
        "grid.text(\"Modules\", y = -0.07, gp = gpar(fontsize = 16))\n",
        "grid.text(\"Genomes\", x = -0.07, rot = 90, gp = gpar(fontsize = 16))\n",
        "\n",
        "\n",
        "\n",
        "module_presence_matrix <- 1 * (module_step_coverage_matrix > step_coverage_threshold)\n",
        "\n",
        "module_presence_matrix <- module_presence_matrix[, colSums(module_presence_matrix) > 0]\n",
        "\n",
        "hatmap"
      ],
      "metadata": {
        "id": "gc0jmV-nKyV1"
      },
      "execution_count": null,
      "outputs": []
    },
    {
      "cell_type": "code",
      "source": [
        "%%R\n",
        "d_tax <- column_to_rownames(Tax, \"user_genome\")\n",
        "\n",
        "\n",
        "\n",
        "annotations <- matrix(\"\", nrow = nrow(module_step_coverage_matrix), ncol = ncol(module_step_coverage_matrix))\n",
        "colnames(annotations) <- colnames(module_step_coverage_matrix)\n",
        "rownames(annotations) <- rownames(module_step_coverage_matrix)\n",
        "\n",
        "for (genome in rownames(annotations))\n",
        "{\n",
        "  for (module in colnames(annotations))\n",
        "  {\n",
        "    annotations[genome, module] <- paste0(\n",
        "      \"Name: \", d_tax[genome, \"species\"],\n",
        "      \"\\nPhylum: \", d_tax[genome, \"phylum\"],\n",
        "      \"\\nPathway: \", module_names[module, \"name\"]\n",
        "    )\n",
        "  }\n",
        "}\n",
        "\n",
        "\n",
        "\n",
        "\n",
        "heatmaply(module_step_coverage_matrix,\n",
        "  custom_hovertext = annotations,\n",
        "  row_side_colors = list(Phylum = d_tax[rownames(module_step_coverage_matrix), \"phylum\"]),\n",
        "  showticklabels = c(FALSE, FALSE)\n",
        ")"
      ],
      "metadata": {
        "id": "FaL4ZpkQK7hd"
      },
      "execution_count": null,
      "outputs": []
    },
    {
      "cell_type": "markdown",
      "source": [
        "### Module abundance\n",
        "\n",
        "Calculate Abundance of pathways as the sum of abundance of species where a module is presence. This is equal to the matrix multiplication.\n"
      ],
      "metadata": {
        "id": "eMmzjiskK-F6"
      }
    },
    {
      "cell_type": "code",
      "source": [
        "%%R\n",
        "stopifnot(dim(rel_ab)[2] == dim(module_presence_matrix)[1])\n",
        "module_rel_ab <- as.matrix(rel_ab) %*% module_presence_matrix\n",
        "\n",
        "\n",
        "setHook(\"grid.newpage\", function() pushViewport(viewport(x = 1, y = 1, width = 0.9, height = 0.9, name = \"vp\", just = c(\"right\", \"top\"))), action = \"prepend\")\n",
        "pheatmap(module_rel_ab, show_rownames = F, show_colnames = F)\n",
        "\n",
        "setHook(\"grid.newpage\", NULL, \"replace\")\n",
        "grid.text(\"Modules\", y = -0.07, gp = gpar(fontsize = 16))\n",
        "grid.text(\"Samples\", x = -0.07, rot = 90, gp = gpar(fontsize = 16))"
      ],
      "metadata": {
        "id": "VGln52_pK-pb"
      },
      "execution_count": null,
      "outputs": []
    },
    {
      "cell_type": "code",
      "source": [
        "%%R\n",
        "annotations <- matrix(\"\", nrow = nrow(module_rel_ab), ncol = ncol(module_rel_ab))\n",
        "colnames(annotations) <- colnames(module_rel_ab)\n",
        "rownames(annotations) <- rownames(module_rel_ab)\n",
        "for (sample in rownames(annotations))\n",
        "{\n",
        "  for (module in colnames(annotations))\n",
        "  {\n",
        "    annotations[sample, module] <- paste0(\n",
        "      \"Pathway: \", module_names[module, ]\n",
        "    )\n",
        "  }\n",
        "}\n",
        "\n",
        "\n",
        "\n",
        "\n",
        "heatmaply(module_rel_ab,\n",
        "  custom_hovertext = annotations,\n",
        "  showticklabels = c(FALSE, FALSE),\n",
        "  row_side_colors = list(Diet = metadata[rownames(module_rel_ab), \"Diet\"]),\n",
        "  colors = \"RdBu\"\n",
        ")"
      ],
      "metadata": {
        "id": "LQyntIBjLCZl"
      },
      "execution_count": null,
      "outputs": []
    },
    {
      "cell_type": "code",
      "source": [
        "%%R\n",
        "abundance_per_module <- data.frame(abundance = colMeans(module_rel_ab)) %>% arrange(desc(abundance))\n",
        "abundance_per_module <- cbind(abundance_per_module, module_names[rownames(abundance_per_module), ])\n",
        "colnames(abundance_per_module) <- c(\"Average_abundance\", \"Description\")\n",
        "\n",
        "\n",
        "\n",
        "\n",
        "\n",
        "\n",
        "ggplot(abundance_per_module, aes(x = Average_abundance)) +\n",
        "  geom_histogram() +\n",
        "  labs(x = \"Average module abundance\", y = \"counts\") +\n",
        "  theme_minimal() +\n",
        "  theme(axis.text.x = element_text(angle = 90))"
      ],
      "metadata": {
        "id": "b8j6ZixqLIJO"
      },
      "execution_count": null,
      "outputs": []
    }
  ]
}